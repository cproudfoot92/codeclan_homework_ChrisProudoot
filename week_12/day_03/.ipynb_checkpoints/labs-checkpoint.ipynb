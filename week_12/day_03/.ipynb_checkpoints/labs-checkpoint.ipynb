{
 "cells": [
  {
   "cell_type": "code",
   "execution_count": 1,
   "metadata": {},
   "outputs": [],
   "source": [
    "import pandas as pd"
   ]
  },
  {
   "cell_type": "code",
   "execution_count": 8,
   "metadata": {},
   "outputs": [],
   "source": [
    "songs = pd.read_csv(\"data/songs.csv\")"
   ]
  },
  {
   "cell_type": "code",
   "execution_count": 9,
   "metadata": {},
   "outputs": [
    {
     "data": {
      "text/html": [
       "<div>\n",
       "<style scoped>\n",
       "    .dataframe tbody tr th:only-of-type {\n",
       "        vertical-align: middle;\n",
       "    }\n",
       "\n",
       "    .dataframe tbody tr th {\n",
       "        vertical-align: top;\n",
       "    }\n",
       "\n",
       "    .dataframe thead th {\n",
       "        text-align: right;\n",
       "    }\n",
       "</style>\n",
       "<table border=\"1\" class=\"dataframe\">\n",
       "  <thead>\n",
       "    <tr style=\"text-align: right;\">\n",
       "      <th></th>\n",
       "      <th>Unnamed: 0</th>\n",
       "      <th>acousticness</th>\n",
       "      <th>danceability</th>\n",
       "      <th>duration_ms</th>\n",
       "      <th>energy</th>\n",
       "      <th>instrumentalness</th>\n",
       "      <th>key</th>\n",
       "      <th>liveness</th>\n",
       "      <th>loudness</th>\n",
       "      <th>mode</th>\n",
       "      <th>speechiness</th>\n",
       "      <th>tempo</th>\n",
       "      <th>time_signature</th>\n",
       "      <th>valence</th>\n",
       "      <th>target</th>\n",
       "      <th>song_title</th>\n",
       "      <th>artist</th>\n",
       "    </tr>\n",
       "  </thead>\n",
       "  <tbody>\n",
       "    <tr>\n",
       "      <th>0</th>\n",
       "      <td>0</td>\n",
       "      <td>0.0102</td>\n",
       "      <td>0.833</td>\n",
       "      <td>204600</td>\n",
       "      <td>0.434</td>\n",
       "      <td>0.021900</td>\n",
       "      <td>2</td>\n",
       "      <td>0.1650</td>\n",
       "      <td>-8.795</td>\n",
       "      <td>1</td>\n",
       "      <td>0.4310</td>\n",
       "      <td>150.062</td>\n",
       "      <td>4.0</td>\n",
       "      <td>0.286</td>\n",
       "      <td>1</td>\n",
       "      <td>Mask Off</td>\n",
       "      <td>Future</td>\n",
       "    </tr>\n",
       "    <tr>\n",
       "      <th>1</th>\n",
       "      <td>1</td>\n",
       "      <td>0.1990</td>\n",
       "      <td>0.743</td>\n",
       "      <td>326933</td>\n",
       "      <td>0.359</td>\n",
       "      <td>0.006110</td>\n",
       "      <td>1</td>\n",
       "      <td>0.1370</td>\n",
       "      <td>-10.401</td>\n",
       "      <td>1</td>\n",
       "      <td>0.0794</td>\n",
       "      <td>160.083</td>\n",
       "      <td>4.0</td>\n",
       "      <td>0.588</td>\n",
       "      <td>1</td>\n",
       "      <td>Redbone</td>\n",
       "      <td>Childish Gambino</td>\n",
       "    </tr>\n",
       "    <tr>\n",
       "      <th>2</th>\n",
       "      <td>2</td>\n",
       "      <td>0.0344</td>\n",
       "      <td>0.838</td>\n",
       "      <td>185707</td>\n",
       "      <td>0.412</td>\n",
       "      <td>0.000234</td>\n",
       "      <td>2</td>\n",
       "      <td>0.1590</td>\n",
       "      <td>-7.148</td>\n",
       "      <td>1</td>\n",
       "      <td>0.2890</td>\n",
       "      <td>75.044</td>\n",
       "      <td>4.0</td>\n",
       "      <td>0.173</td>\n",
       "      <td>1</td>\n",
       "      <td>Xanny Family</td>\n",
       "      <td>Future</td>\n",
       "    </tr>\n",
       "    <tr>\n",
       "      <th>3</th>\n",
       "      <td>3</td>\n",
       "      <td>0.6040</td>\n",
       "      <td>0.494</td>\n",
       "      <td>199413</td>\n",
       "      <td>0.338</td>\n",
       "      <td>0.510000</td>\n",
       "      <td>5</td>\n",
       "      <td>0.0922</td>\n",
       "      <td>-15.236</td>\n",
       "      <td>1</td>\n",
       "      <td>0.0261</td>\n",
       "      <td>86.468</td>\n",
       "      <td>4.0</td>\n",
       "      <td>0.230</td>\n",
       "      <td>1</td>\n",
       "      <td>Master Of None</td>\n",
       "      <td>Beach House</td>\n",
       "    </tr>\n",
       "    <tr>\n",
       "      <th>4</th>\n",
       "      <td>4</td>\n",
       "      <td>0.1800</td>\n",
       "      <td>0.678</td>\n",
       "      <td>392893</td>\n",
       "      <td>0.561</td>\n",
       "      <td>0.512000</td>\n",
       "      <td>5</td>\n",
       "      <td>0.4390</td>\n",
       "      <td>-11.648</td>\n",
       "      <td>0</td>\n",
       "      <td>0.0694</td>\n",
       "      <td>174.004</td>\n",
       "      <td>4.0</td>\n",
       "      <td>0.904</td>\n",
       "      <td>1</td>\n",
       "      <td>Parallel Lines</td>\n",
       "      <td>Junior Boys</td>\n",
       "    </tr>\n",
       "  </tbody>\n",
       "</table>\n",
       "</div>"
      ],
      "text/plain": [
       "   Unnamed: 0  acousticness  danceability  duration_ms  energy  \\\n",
       "0           0        0.0102         0.833       204600   0.434   \n",
       "1           1        0.1990         0.743       326933   0.359   \n",
       "2           2        0.0344         0.838       185707   0.412   \n",
       "3           3        0.6040         0.494       199413   0.338   \n",
       "4           4        0.1800         0.678       392893   0.561   \n",
       "\n",
       "   instrumentalness  key  liveness  loudness  mode  speechiness    tempo  \\\n",
       "0          0.021900    2    0.1650    -8.795     1       0.4310  150.062   \n",
       "1          0.006110    1    0.1370   -10.401     1       0.0794  160.083   \n",
       "2          0.000234    2    0.1590    -7.148     1       0.2890   75.044   \n",
       "3          0.510000    5    0.0922   -15.236     1       0.0261   86.468   \n",
       "4          0.512000    5    0.4390   -11.648     0       0.0694  174.004   \n",
       "\n",
       "   time_signature  valence  target      song_title            artist  \n",
       "0             4.0    0.286       1        Mask Off            Future  \n",
       "1             4.0    0.588       1         Redbone  Childish Gambino  \n",
       "2             4.0    0.173       1    Xanny Family            Future  \n",
       "3             4.0    0.230       1  Master Of None       Beach House  \n",
       "4             4.0    0.904       1  Parallel Lines       Junior Boys  "
      ]
     },
     "execution_count": 9,
     "metadata": {},
     "output_type": "execute_result"
    }
   ],
   "source": [
    "songs.head()"
   ]
  },
  {
   "cell_type": "code",
   "execution_count": 4,
   "metadata": {},
   "outputs": [
    {
     "data": {
      "text/plain": [
       "Index(['Unnamed: 0', 'acousticness', 'danceability', 'duration_ms', 'energy',\n",
       "       'instrumentalness', 'key', 'liveness', 'loudness', 'mode',\n",
       "       'speechiness', 'tempo', 'time_signature', 'valence', 'target',\n",
       "       'song_title', 'artist'],\n",
       "      dtype='object')"
      ]
     },
     "execution_count": 4,
     "metadata": {},
     "output_type": "execute_result"
    }
   ],
   "source": [
    "songs.columns"
   ]
  },
  {
   "cell_type": "code",
   "execution_count": 5,
   "metadata": {},
   "outputs": [
    {
     "data": {
      "text/plain": [
       "Unnamed: 0          0\n",
       "acousticness        0\n",
       "danceability        0\n",
       "duration_ms         0\n",
       "energy              0\n",
       "instrumentalness    0\n",
       "key                 0\n",
       "liveness            0\n",
       "loudness            0\n",
       "mode                0\n",
       "speechiness         0\n",
       "tempo               0\n",
       "time_signature      0\n",
       "valence             0\n",
       "target              0\n",
       "song_title          0\n",
       "artist              0\n",
       "dtype: int64"
      ]
     },
     "execution_count": 5,
     "metadata": {},
     "output_type": "execute_result"
    }
   ],
   "source": [
    "songs.isna().sum()"
   ]
  },
  {
   "cell_type": "code",
   "execution_count": 13,
   "metadata": {},
   "outputs": [],
   "source": [
    "songs = songs.drop(columns = [\"song_title\", \"artist\"])"
   ]
  },
  {
   "cell_type": "code",
   "execution_count": 15,
   "metadata": {},
   "outputs": [
    {
     "data": {
      "text/html": [
       "<div>\n",
       "<style scoped>\n",
       "    .dataframe tbody tr th:only-of-type {\n",
       "        vertical-align: middle;\n",
       "    }\n",
       "\n",
       "    .dataframe tbody tr th {\n",
       "        vertical-align: top;\n",
       "    }\n",
       "\n",
       "    .dataframe thead th {\n",
       "        text-align: right;\n",
       "    }\n",
       "</style>\n",
       "<table border=\"1\" class=\"dataframe\">\n",
       "  <thead>\n",
       "    <tr style=\"text-align: right;\">\n",
       "      <th></th>\n",
       "      <th>Unnamed: 0</th>\n",
       "      <th>acousticness</th>\n",
       "      <th>danceability</th>\n",
       "      <th>duration_ms</th>\n",
       "      <th>energy</th>\n",
       "      <th>instrumentalness</th>\n",
       "      <th>key</th>\n",
       "      <th>liveness</th>\n",
       "      <th>loudness</th>\n",
       "      <th>mode</th>\n",
       "      <th>speechiness</th>\n",
       "      <th>tempo</th>\n",
       "      <th>time_signature</th>\n",
       "      <th>valence</th>\n",
       "      <th>target</th>\n",
       "    </tr>\n",
       "  </thead>\n",
       "  <tbody>\n",
       "    <tr>\n",
       "      <th>count</th>\n",
       "      <td>2017.000000</td>\n",
       "      <td>2017.000000</td>\n",
       "      <td>2017.000000</td>\n",
       "      <td>2.017000e+03</td>\n",
       "      <td>2017.000000</td>\n",
       "      <td>2017.000000</td>\n",
       "      <td>2017.000000</td>\n",
       "      <td>2017.000000</td>\n",
       "      <td>2017.000000</td>\n",
       "      <td>2017.000000</td>\n",
       "      <td>2017.000000</td>\n",
       "      <td>2017.000000</td>\n",
       "      <td>2017.000000</td>\n",
       "      <td>2017.000000</td>\n",
       "      <td>2017.000000</td>\n",
       "    </tr>\n",
       "    <tr>\n",
       "      <th>mean</th>\n",
       "      <td>1008.000000</td>\n",
       "      <td>0.187590</td>\n",
       "      <td>0.618422</td>\n",
       "      <td>2.463062e+05</td>\n",
       "      <td>0.681577</td>\n",
       "      <td>0.133286</td>\n",
       "      <td>5.342588</td>\n",
       "      <td>0.190844</td>\n",
       "      <td>-7.085624</td>\n",
       "      <td>0.612295</td>\n",
       "      <td>0.092664</td>\n",
       "      <td>121.603272</td>\n",
       "      <td>3.968270</td>\n",
       "      <td>0.496815</td>\n",
       "      <td>0.505702</td>\n",
       "    </tr>\n",
       "    <tr>\n",
       "      <th>std</th>\n",
       "      <td>582.402066</td>\n",
       "      <td>0.259989</td>\n",
       "      <td>0.161029</td>\n",
       "      <td>8.198181e+04</td>\n",
       "      <td>0.210273</td>\n",
       "      <td>0.273162</td>\n",
       "      <td>3.648240</td>\n",
       "      <td>0.155453</td>\n",
       "      <td>3.761684</td>\n",
       "      <td>0.487347</td>\n",
       "      <td>0.089931</td>\n",
       "      <td>26.685604</td>\n",
       "      <td>0.255853</td>\n",
       "      <td>0.247195</td>\n",
       "      <td>0.500091</td>\n",
       "    </tr>\n",
       "    <tr>\n",
       "      <th>min</th>\n",
       "      <td>0.000000</td>\n",
       "      <td>0.000003</td>\n",
       "      <td>0.122000</td>\n",
       "      <td>1.604200e+04</td>\n",
       "      <td>0.014800</td>\n",
       "      <td>0.000000</td>\n",
       "      <td>0.000000</td>\n",
       "      <td>0.018800</td>\n",
       "      <td>-33.097000</td>\n",
       "      <td>0.000000</td>\n",
       "      <td>0.023100</td>\n",
       "      <td>47.859000</td>\n",
       "      <td>1.000000</td>\n",
       "      <td>0.034800</td>\n",
       "      <td>0.000000</td>\n",
       "    </tr>\n",
       "    <tr>\n",
       "      <th>25%</th>\n",
       "      <td>504.000000</td>\n",
       "      <td>0.009630</td>\n",
       "      <td>0.514000</td>\n",
       "      <td>2.000150e+05</td>\n",
       "      <td>0.563000</td>\n",
       "      <td>0.000000</td>\n",
       "      <td>2.000000</td>\n",
       "      <td>0.092300</td>\n",
       "      <td>-8.394000</td>\n",
       "      <td>0.000000</td>\n",
       "      <td>0.037500</td>\n",
       "      <td>100.189000</td>\n",
       "      <td>4.000000</td>\n",
       "      <td>0.295000</td>\n",
       "      <td>0.000000</td>\n",
       "    </tr>\n",
       "    <tr>\n",
       "      <th>50%</th>\n",
       "      <td>1008.000000</td>\n",
       "      <td>0.063300</td>\n",
       "      <td>0.631000</td>\n",
       "      <td>2.292610e+05</td>\n",
       "      <td>0.715000</td>\n",
       "      <td>0.000076</td>\n",
       "      <td>6.000000</td>\n",
       "      <td>0.127000</td>\n",
       "      <td>-6.248000</td>\n",
       "      <td>1.000000</td>\n",
       "      <td>0.054900</td>\n",
       "      <td>121.427000</td>\n",
       "      <td>4.000000</td>\n",
       "      <td>0.492000</td>\n",
       "      <td>1.000000</td>\n",
       "    </tr>\n",
       "    <tr>\n",
       "      <th>75%</th>\n",
       "      <td>1512.000000</td>\n",
       "      <td>0.265000</td>\n",
       "      <td>0.738000</td>\n",
       "      <td>2.703330e+05</td>\n",
       "      <td>0.846000</td>\n",
       "      <td>0.054000</td>\n",
       "      <td>9.000000</td>\n",
       "      <td>0.247000</td>\n",
       "      <td>-4.746000</td>\n",
       "      <td>1.000000</td>\n",
       "      <td>0.108000</td>\n",
       "      <td>137.849000</td>\n",
       "      <td>4.000000</td>\n",
       "      <td>0.691000</td>\n",
       "      <td>1.000000</td>\n",
       "    </tr>\n",
       "    <tr>\n",
       "      <th>max</th>\n",
       "      <td>2016.000000</td>\n",
       "      <td>0.995000</td>\n",
       "      <td>0.984000</td>\n",
       "      <td>1.004627e+06</td>\n",
       "      <td>0.998000</td>\n",
       "      <td>0.976000</td>\n",
       "      <td>11.000000</td>\n",
       "      <td>0.969000</td>\n",
       "      <td>-0.307000</td>\n",
       "      <td>1.000000</td>\n",
       "      <td>0.816000</td>\n",
       "      <td>219.331000</td>\n",
       "      <td>5.000000</td>\n",
       "      <td>0.992000</td>\n",
       "      <td>1.000000</td>\n",
       "    </tr>\n",
       "  </tbody>\n",
       "</table>\n",
       "</div>"
      ],
      "text/plain": [
       "        Unnamed: 0  acousticness  danceability   duration_ms       energy  \\\n",
       "count  2017.000000   2017.000000   2017.000000  2.017000e+03  2017.000000   \n",
       "mean   1008.000000      0.187590      0.618422  2.463062e+05     0.681577   \n",
       "std     582.402066      0.259989      0.161029  8.198181e+04     0.210273   \n",
       "min       0.000000      0.000003      0.122000  1.604200e+04     0.014800   \n",
       "25%     504.000000      0.009630      0.514000  2.000150e+05     0.563000   \n",
       "50%    1008.000000      0.063300      0.631000  2.292610e+05     0.715000   \n",
       "75%    1512.000000      0.265000      0.738000  2.703330e+05     0.846000   \n",
       "max    2016.000000      0.995000      0.984000  1.004627e+06     0.998000   \n",
       "\n",
       "       instrumentalness          key     liveness     loudness         mode  \\\n",
       "count       2017.000000  2017.000000  2017.000000  2017.000000  2017.000000   \n",
       "mean           0.133286     5.342588     0.190844    -7.085624     0.612295   \n",
       "std            0.273162     3.648240     0.155453     3.761684     0.487347   \n",
       "min            0.000000     0.000000     0.018800   -33.097000     0.000000   \n",
       "25%            0.000000     2.000000     0.092300    -8.394000     0.000000   \n",
       "50%            0.000076     6.000000     0.127000    -6.248000     1.000000   \n",
       "75%            0.054000     9.000000     0.247000    -4.746000     1.000000   \n",
       "max            0.976000    11.000000     0.969000    -0.307000     1.000000   \n",
       "\n",
       "       speechiness        tempo  time_signature      valence       target  \n",
       "count  2017.000000  2017.000000     2017.000000  2017.000000  2017.000000  \n",
       "mean      0.092664   121.603272        3.968270     0.496815     0.505702  \n",
       "std       0.089931    26.685604        0.255853     0.247195     0.500091  \n",
       "min       0.023100    47.859000        1.000000     0.034800     0.000000  \n",
       "25%       0.037500   100.189000        4.000000     0.295000     0.000000  \n",
       "50%       0.054900   121.427000        4.000000     0.492000     1.000000  \n",
       "75%       0.108000   137.849000        4.000000     0.691000     1.000000  \n",
       "max       0.816000   219.331000        5.000000     0.992000     1.000000  "
      ]
     },
     "execution_count": 15,
     "metadata": {},
     "output_type": "execute_result"
    }
   ],
   "source": [
    "songs.describe()"
   ]
  },
  {
   "cell_type": "code",
   "execution_count": 17,
   "metadata": {},
   "outputs": [
    {
     "data": {
      "text/html": [
       "<div>\n",
       "<style scoped>\n",
       "    .dataframe tbody tr th:only-of-type {\n",
       "        vertical-align: middle;\n",
       "    }\n",
       "\n",
       "    .dataframe tbody tr th {\n",
       "        vertical-align: top;\n",
       "    }\n",
       "\n",
       "    .dataframe thead th {\n",
       "        text-align: right;\n",
       "    }\n",
       "</style>\n",
       "<table border=\"1\" class=\"dataframe\">\n",
       "  <thead>\n",
       "    <tr style=\"text-align: right;\">\n",
       "      <th></th>\n",
       "      <th>Unnamed: 0</th>\n",
       "      <th>acousticness</th>\n",
       "      <th>danceability</th>\n",
       "      <th>duration_ms</th>\n",
       "      <th>energy</th>\n",
       "      <th>instrumentalness</th>\n",
       "      <th>key</th>\n",
       "      <th>liveness</th>\n",
       "      <th>loudness</th>\n",
       "      <th>mode</th>\n",
       "      <th>speechiness</th>\n",
       "      <th>tempo</th>\n",
       "      <th>time_signature</th>\n",
       "      <th>valence</th>\n",
       "      <th>target</th>\n",
       "    </tr>\n",
       "  </thead>\n",
       "  <tbody>\n",
       "    <tr>\n",
       "      <th>Unnamed: 0</th>\n",
       "      <td>1.000000</td>\n",
       "      <td>0.133055</td>\n",
       "      <td>-0.139615</td>\n",
       "      <td>-0.104185</td>\n",
       "      <td>-0.039880</td>\n",
       "      <td>-0.104641</td>\n",
       "      <td>-0.035611</td>\n",
       "      <td>-0.039962</td>\n",
       "      <td>0.021935</td>\n",
       "      <td>0.060639</td>\n",
       "      <td>-0.135362</td>\n",
       "      <td>-0.027890</td>\n",
       "      <td>-0.053235</td>\n",
       "      <td>-0.077812</td>\n",
       "      <td>-0.865969</td>\n",
       "    </tr>\n",
       "    <tr>\n",
       "      <th>acousticness</th>\n",
       "      <td>0.133055</td>\n",
       "      <td>1.000000</td>\n",
       "      <td>-0.179894</td>\n",
       "      <td>0.071536</td>\n",
       "      <td>-0.646319</td>\n",
       "      <td>0.144397</td>\n",
       "      <td>-0.081037</td>\n",
       "      <td>-0.117126</td>\n",
       "      <td>-0.562021</td>\n",
       "      <td>0.068028</td>\n",
       "      <td>-0.099893</td>\n",
       "      <td>-0.127596</td>\n",
       "      <td>-0.190353</td>\n",
       "      <td>-0.152227</td>\n",
       "      <td>-0.129627</td>\n",
       "    </tr>\n",
       "    <tr>\n",
       "      <th>danceability</th>\n",
       "      <td>-0.139615</td>\n",
       "      <td>-0.179894</td>\n",
       "      <td>1.000000</td>\n",
       "      <td>0.004695</td>\n",
       "      <td>0.038557</td>\n",
       "      <td>-0.130561</td>\n",
       "      <td>0.022325</td>\n",
       "      <td>-0.132044</td>\n",
       "      <td>0.104362</td>\n",
       "      <td>-0.047867</td>\n",
       "      <td>0.142661</td>\n",
       "      <td>-0.143538</td>\n",
       "      <td>0.128909</td>\n",
       "      <td>0.442061</td>\n",
       "      <td>0.176706</td>\n",
       "    </tr>\n",
       "    <tr>\n",
       "      <th>duration_ms</th>\n",
       "      <td>-0.104185</td>\n",
       "      <td>0.071536</td>\n",
       "      <td>0.004695</td>\n",
       "      <td>1.000000</td>\n",
       "      <td>-0.144473</td>\n",
       "      <td>0.305403</td>\n",
       "      <td>0.023570</td>\n",
       "      <td>0.023203</td>\n",
       "      <td>-0.273798</td>\n",
       "      <td>-0.074806</td>\n",
       "      <td>-0.079562</td>\n",
       "      <td>-0.076469</td>\n",
       "      <td>-0.040157</td>\n",
       "      <td>-0.120030</td>\n",
       "      <td>0.146749</td>\n",
       "    </tr>\n",
       "    <tr>\n",
       "      <th>energy</th>\n",
       "      <td>-0.039880</td>\n",
       "      <td>-0.646319</td>\n",
       "      <td>0.038557</td>\n",
       "      <td>-0.144473</td>\n",
       "      <td>1.000000</td>\n",
       "      <td>-0.122890</td>\n",
       "      <td>0.072886</td>\n",
       "      <td>0.217435</td>\n",
       "      <td>0.762177</td>\n",
       "      <td>-0.070263</td>\n",
       "      <td>0.093102</td>\n",
       "      <td>0.165721</td>\n",
       "      <td>0.182895</td>\n",
       "      <td>0.278383</td>\n",
       "      <td>0.039688</td>\n",
       "    </tr>\n",
       "    <tr>\n",
       "      <th>instrumentalness</th>\n",
       "      <td>-0.104641</td>\n",
       "      <td>0.144397</td>\n",
       "      <td>-0.130561</td>\n",
       "      <td>0.305403</td>\n",
       "      <td>-0.122890</td>\n",
       "      <td>1.000000</td>\n",
       "      <td>-0.009640</td>\n",
       "      <td>0.001063</td>\n",
       "      <td>-0.354625</td>\n",
       "      <td>-0.030099</td>\n",
       "      <td>-0.155349</td>\n",
       "      <td>0.000347</td>\n",
       "      <td>-0.070721</td>\n",
       "      <td>-0.194630</td>\n",
       "      <td>0.152594</td>\n",
       "    </tr>\n",
       "    <tr>\n",
       "      <th>key</th>\n",
       "      <td>-0.035611</td>\n",
       "      <td>-0.081037</td>\n",
       "      <td>0.022325</td>\n",
       "      <td>0.023570</td>\n",
       "      <td>0.072886</td>\n",
       "      <td>-0.009640</td>\n",
       "      <td>1.000000</td>\n",
       "      <td>0.049739</td>\n",
       "      <td>0.050929</td>\n",
       "      <td>-0.195040</td>\n",
       "      <td>0.019116</td>\n",
       "      <td>0.040301</td>\n",
       "      <td>0.024937</td>\n",
       "      <td>0.032485</td>\n",
       "      <td>0.033594</td>\n",
       "    </tr>\n",
       "    <tr>\n",
       "      <th>liveness</th>\n",
       "      <td>-0.039962</td>\n",
       "      <td>-0.117126</td>\n",
       "      <td>-0.132044</td>\n",
       "      <td>0.023203</td>\n",
       "      <td>0.217435</td>\n",
       "      <td>0.001063</td>\n",
       "      <td>0.049739</td>\n",
       "      <td>1.000000</td>\n",
       "      <td>0.156648</td>\n",
       "      <td>-0.018587</td>\n",
       "      <td>0.092403</td>\n",
       "      <td>0.010558</td>\n",
       "      <td>0.018199</td>\n",
       "      <td>-0.053011</td>\n",
       "      <td>0.026364</td>\n",
       "    </tr>\n",
       "    <tr>\n",
       "      <th>loudness</th>\n",
       "      <td>0.021935</td>\n",
       "      <td>-0.562021</td>\n",
       "      <td>0.104362</td>\n",
       "      <td>-0.273798</td>\n",
       "      <td>0.762177</td>\n",
       "      <td>-0.354625</td>\n",
       "      <td>0.050929</td>\n",
       "      <td>0.156648</td>\n",
       "      <td>1.000000</td>\n",
       "      <td>-0.044015</td>\n",
       "      <td>0.088844</td>\n",
       "      <td>0.156418</td>\n",
       "      <td>0.143011</td>\n",
       "      <td>0.204968</td>\n",
       "      <td>-0.072000</td>\n",
       "    </tr>\n",
       "    <tr>\n",
       "      <th>mode</th>\n",
       "      <td>0.060639</td>\n",
       "      <td>0.068028</td>\n",
       "      <td>-0.047867</td>\n",
       "      <td>-0.074806</td>\n",
       "      <td>-0.070263</td>\n",
       "      <td>-0.030099</td>\n",
       "      <td>-0.195040</td>\n",
       "      <td>-0.018587</td>\n",
       "      <td>-0.044015</td>\n",
       "      <td>1.000000</td>\n",
       "      <td>-0.049398</td>\n",
       "      <td>-0.059995</td>\n",
       "      <td>-0.039038</td>\n",
       "      <td>-0.032879</td>\n",
       "      <td>-0.072336</td>\n",
       "    </tr>\n",
       "    <tr>\n",
       "      <th>speechiness</th>\n",
       "      <td>-0.135362</td>\n",
       "      <td>-0.099893</td>\n",
       "      <td>0.142661</td>\n",
       "      <td>-0.079562</td>\n",
       "      <td>0.093102</td>\n",
       "      <td>-0.155349</td>\n",
       "      <td>0.019116</td>\n",
       "      <td>0.092403</td>\n",
       "      <td>0.088844</td>\n",
       "      <td>-0.049398</td>\n",
       "      <td>1.000000</td>\n",
       "      <td>0.111359</td>\n",
       "      <td>0.113529</td>\n",
       "      <td>0.054419</td>\n",
       "      <td>0.154006</td>\n",
       "    </tr>\n",
       "    <tr>\n",
       "      <th>tempo</th>\n",
       "      <td>-0.027890</td>\n",
       "      <td>-0.127596</td>\n",
       "      <td>-0.143538</td>\n",
       "      <td>-0.076469</td>\n",
       "      <td>0.165721</td>\n",
       "      <td>0.000347</td>\n",
       "      <td>0.040301</td>\n",
       "      <td>0.010558</td>\n",
       "      <td>0.156418</td>\n",
       "      <td>-0.059995</td>\n",
       "      <td>0.111359</td>\n",
       "      <td>1.000000</td>\n",
       "      <td>-0.055918</td>\n",
       "      <td>-0.014965</td>\n",
       "      <td>0.034732</td>\n",
       "    </tr>\n",
       "    <tr>\n",
       "      <th>time_signature</th>\n",
       "      <td>-0.053235</td>\n",
       "      <td>-0.190353</td>\n",
       "      <td>0.128909</td>\n",
       "      <td>-0.040157</td>\n",
       "      <td>0.182895</td>\n",
       "      <td>-0.070721</td>\n",
       "      <td>0.024937</td>\n",
       "      <td>0.018199</td>\n",
       "      <td>0.143011</td>\n",
       "      <td>-0.039038</td>\n",
       "      <td>0.113529</td>\n",
       "      <td>-0.055918</td>\n",
       "      <td>1.000000</td>\n",
       "      <td>0.134722</td>\n",
       "      <td>0.040182</td>\n",
       "    </tr>\n",
       "    <tr>\n",
       "      <th>valence</th>\n",
       "      <td>-0.077812</td>\n",
       "      <td>-0.152227</td>\n",
       "      <td>0.442061</td>\n",
       "      <td>-0.120030</td>\n",
       "      <td>0.278383</td>\n",
       "      <td>-0.194630</td>\n",
       "      <td>0.032485</td>\n",
       "      <td>-0.053011</td>\n",
       "      <td>0.204968</td>\n",
       "      <td>-0.032879</td>\n",
       "      <td>0.054419</td>\n",
       "      <td>-0.014965</td>\n",
       "      <td>0.134722</td>\n",
       "      <td>1.000000</td>\n",
       "      <td>0.107930</td>\n",
       "    </tr>\n",
       "    <tr>\n",
       "      <th>target</th>\n",
       "      <td>-0.865969</td>\n",
       "      <td>-0.129627</td>\n",
       "      <td>0.176706</td>\n",
       "      <td>0.146749</td>\n",
       "      <td>0.039688</td>\n",
       "      <td>0.152594</td>\n",
       "      <td>0.033594</td>\n",
       "      <td>0.026364</td>\n",
       "      <td>-0.072000</td>\n",
       "      <td>-0.072336</td>\n",
       "      <td>0.154006</td>\n",
       "      <td>0.034732</td>\n",
       "      <td>0.040182</td>\n",
       "      <td>0.107930</td>\n",
       "      <td>1.000000</td>\n",
       "    </tr>\n",
       "  </tbody>\n",
       "</table>\n",
       "</div>"
      ],
      "text/plain": [
       "                  Unnamed: 0  acousticness  danceability  duration_ms  \\\n",
       "Unnamed: 0          1.000000      0.133055     -0.139615    -0.104185   \n",
       "acousticness        0.133055      1.000000     -0.179894     0.071536   \n",
       "danceability       -0.139615     -0.179894      1.000000     0.004695   \n",
       "duration_ms        -0.104185      0.071536      0.004695     1.000000   \n",
       "energy             -0.039880     -0.646319      0.038557    -0.144473   \n",
       "instrumentalness   -0.104641      0.144397     -0.130561     0.305403   \n",
       "key                -0.035611     -0.081037      0.022325     0.023570   \n",
       "liveness           -0.039962     -0.117126     -0.132044     0.023203   \n",
       "loudness            0.021935     -0.562021      0.104362    -0.273798   \n",
       "mode                0.060639      0.068028     -0.047867    -0.074806   \n",
       "speechiness        -0.135362     -0.099893      0.142661    -0.079562   \n",
       "tempo              -0.027890     -0.127596     -0.143538    -0.076469   \n",
       "time_signature     -0.053235     -0.190353      0.128909    -0.040157   \n",
       "valence            -0.077812     -0.152227      0.442061    -0.120030   \n",
       "target             -0.865969     -0.129627      0.176706     0.146749   \n",
       "\n",
       "                    energy  instrumentalness       key  liveness  loudness  \\\n",
       "Unnamed: 0       -0.039880         -0.104641 -0.035611 -0.039962  0.021935   \n",
       "acousticness     -0.646319          0.144397 -0.081037 -0.117126 -0.562021   \n",
       "danceability      0.038557         -0.130561  0.022325 -0.132044  0.104362   \n",
       "duration_ms      -0.144473          0.305403  0.023570  0.023203 -0.273798   \n",
       "energy            1.000000         -0.122890  0.072886  0.217435  0.762177   \n",
       "instrumentalness -0.122890          1.000000 -0.009640  0.001063 -0.354625   \n",
       "key               0.072886         -0.009640  1.000000  0.049739  0.050929   \n",
       "liveness          0.217435          0.001063  0.049739  1.000000  0.156648   \n",
       "loudness          0.762177         -0.354625  0.050929  0.156648  1.000000   \n",
       "mode             -0.070263         -0.030099 -0.195040 -0.018587 -0.044015   \n",
       "speechiness       0.093102         -0.155349  0.019116  0.092403  0.088844   \n",
       "tempo             0.165721          0.000347  0.040301  0.010558  0.156418   \n",
       "time_signature    0.182895         -0.070721  0.024937  0.018199  0.143011   \n",
       "valence           0.278383         -0.194630  0.032485 -0.053011  0.204968   \n",
       "target            0.039688          0.152594  0.033594  0.026364 -0.072000   \n",
       "\n",
       "                      mode  speechiness     tempo  time_signature   valence  \\\n",
       "Unnamed: 0        0.060639    -0.135362 -0.027890       -0.053235 -0.077812   \n",
       "acousticness      0.068028    -0.099893 -0.127596       -0.190353 -0.152227   \n",
       "danceability     -0.047867     0.142661 -0.143538        0.128909  0.442061   \n",
       "duration_ms      -0.074806    -0.079562 -0.076469       -0.040157 -0.120030   \n",
       "energy           -0.070263     0.093102  0.165721        0.182895  0.278383   \n",
       "instrumentalness -0.030099    -0.155349  0.000347       -0.070721 -0.194630   \n",
       "key              -0.195040     0.019116  0.040301        0.024937  0.032485   \n",
       "liveness         -0.018587     0.092403  0.010558        0.018199 -0.053011   \n",
       "loudness         -0.044015     0.088844  0.156418        0.143011  0.204968   \n",
       "mode              1.000000    -0.049398 -0.059995       -0.039038 -0.032879   \n",
       "speechiness      -0.049398     1.000000  0.111359        0.113529  0.054419   \n",
       "tempo            -0.059995     0.111359  1.000000       -0.055918 -0.014965   \n",
       "time_signature   -0.039038     0.113529 -0.055918        1.000000  0.134722   \n",
       "valence          -0.032879     0.054419 -0.014965        0.134722  1.000000   \n",
       "target           -0.072336     0.154006  0.034732        0.040182  0.107930   \n",
       "\n",
       "                    target  \n",
       "Unnamed: 0       -0.865969  \n",
       "acousticness     -0.129627  \n",
       "danceability      0.176706  \n",
       "duration_ms       0.146749  \n",
       "energy            0.039688  \n",
       "instrumentalness  0.152594  \n",
       "key               0.033594  \n",
       "liveness          0.026364  \n",
       "loudness         -0.072000  \n",
       "mode             -0.072336  \n",
       "speechiness       0.154006  \n",
       "tempo             0.034732  \n",
       "time_signature    0.040182  \n",
       "valence           0.107930  \n",
       "target            1.000000  "
      ]
     },
     "execution_count": 17,
     "metadata": {},
     "output_type": "execute_result"
    }
   ],
   "source": [
    "songs.corr()"
   ]
  },
  {
   "cell_type": "code",
   "execution_count": 25,
   "metadata": {},
   "outputs": [],
   "source": [
    "X = songs.drop(columns = \"target\")\n",
    "y = songs[\"target\"]"
   ]
  },
  {
   "cell_type": "code",
   "execution_count": 48,
   "metadata": {},
   "outputs": [],
   "source": [
    "from sklearn.pipeline import Pipeline\n",
    "from sklearn.preprocessing import StandardScaler\n",
    "from sklearn.dummy import DummyRegressor\n",
    "from sklearn.metrics import mean_absolute_error\n",
    "from sklearn.linear_model import LinearRegression\n",
    "from sklearn.linear_model import LogisticRegression\n",
    "from sklearn.svm import SVC\n",
    "from sklearn.preprocessing import PolynomialFeatures\n",
    "from sklearn.neural_network import MLPClassifier"
   ]
  },
  {
   "cell_type": "code",
   "execution_count": 26,
   "metadata": {},
   "outputs": [],
   "source": [
    "from sklearn.model_selection import train_test_split\n",
    "X_train, X_test, y_train, y_test = train_test_split(X, y, test_size = 0.3)"
   ]
  },
  {
   "cell_type": "markdown",
   "metadata": {},
   "source": [
    "# Dummy model"
   ]
  },
  {
   "cell_type": "code",
   "execution_count": 31,
   "metadata": {},
   "outputs": [
    {
     "data": {
      "text/plain": [
       "Pipeline(steps=[('scaler', StandardScaler()), ('regressor', DummyRegressor())])"
      ]
     },
     "execution_count": 31,
     "metadata": {},
     "output_type": "execute_result"
    }
   ],
   "source": [
    "pipe_dummy = Pipeline(steps =[\n",
    "    (\"scaler\", StandardScaler()),\n",
    "    (\"regressor\", DummyRegressor(strategy = \"mean\"))\n",
    "])\n",
    "\n",
    "pipe_dummy.fit(X_train, y_train)"
   ]
  },
  {
   "cell_type": "code",
   "execution_count": 32,
   "metadata": {},
   "outputs": [
    {
     "name": "stdout",
     "output_type": "stream",
     "text": [
      "MAE train 0.49992742052547534\n",
      "MAE test 0.49994035548133126\n"
     ]
    }
   ],
   "source": [
    "y_train_predict = pipe_dummy.predict(X_train)\n",
    "y_test_predict = pipe_dummy.predict(X_test)\n",
    "print(\"MAE train\", mean_absolute_error(y_train, y_train_predict))\n",
    "print(\"MAE test\", mean_absolute_error(y_test, y_test_predict))"
   ]
  },
  {
   "cell_type": "markdown",
   "metadata": {},
   "source": [
    "# Linear regression model "
   ]
  },
  {
   "cell_type": "code",
   "execution_count": 35,
   "metadata": {},
   "outputs": [
    {
     "data": {
      "text/plain": [
       "Pipeline(steps=[('scaler', StandardScaler()),\n",
       "                ('regressor', LinearRegression())])"
      ]
     },
     "execution_count": 35,
     "metadata": {},
     "output_type": "execute_result"
    }
   ],
   "source": [
    "pipe_linreg = Pipeline(steps =[\n",
    "    (\"scaler\", StandardScaler()),\n",
    "    (\"regressor\", LinearRegression())\n",
    "])\n",
    "\n",
    "pipe_linreg.fit(X_train, y_train)"
   ]
  },
  {
   "cell_type": "code",
   "execution_count": 36,
   "metadata": {},
   "outputs": [
    {
     "name": "stdout",
     "output_type": "stream",
     "text": [
      "MAE train 0.20472165581934426\n",
      "MAE test 0.19520531619857598\n"
     ]
    }
   ],
   "source": [
    "y_train_predict = pipe_linreg.predict(X_train)\n",
    "y_test_predict = pipe_linreg.predict(X_test)\n",
    "print(\"MAE train\", mean_absolute_error(y_train, y_train_predict))\n",
    "print(\"MAE test\", mean_absolute_error(y_test, y_test_predict))"
   ]
  },
  {
   "cell_type": "markdown",
   "metadata": {},
   "source": [
    "# Logistic regression model "
   ]
  },
  {
   "cell_type": "code",
   "execution_count": 38,
   "metadata": {},
   "outputs": [
    {
     "data": {
      "text/plain": [
       "Pipeline(steps=[('scaler', StandardScaler()),\n",
       "                ('regressor', LogisticRegression())])"
      ]
     },
     "execution_count": 38,
     "metadata": {},
     "output_type": "execute_result"
    }
   ],
   "source": [
    "pipe_logreg = Pipeline(steps =[\n",
    "    (\"scaler\", StandardScaler()),\n",
    "    (\"regressor\", LogisticRegression())\n",
    "])\n",
    "\n",
    "pipe_logreg.fit(X_train, y_train)"
   ]
  },
  {
   "cell_type": "code",
   "execution_count": 39,
   "metadata": {},
   "outputs": [
    {
     "name": "stdout",
     "output_type": "stream",
     "text": [
      "MAE train 0.0063784549964564135\n",
      "MAE test 0.0033003300330033004\n"
     ]
    }
   ],
   "source": [
    "y_train_predict = pipe_logreg.predict(X_train)\n",
    "y_test_predict = pipe_logreg.predict(X_test)\n",
    "print(\"MAE train\", mean_absolute_error(y_train, y_train_predict))\n",
    "print(\"MAE test\", mean_absolute_error(y_test, y_test_predict))"
   ]
  },
  {
   "cell_type": "markdown",
   "metadata": {},
   "source": [
    "# Support vector machine model "
   ]
  },
  {
   "cell_type": "code",
   "execution_count": 42,
   "metadata": {},
   "outputs": [
    {
     "data": {
      "text/plain": [
       "Pipeline(steps=[('scaler', StandardScaler()), ('regressor', SVC())])"
      ]
     },
     "execution_count": 42,
     "metadata": {},
     "output_type": "execute_result"
    }
   ],
   "source": [
    "pipe_svc = Pipeline(steps =[\n",
    "    (\"scaler\", StandardScaler()),\n",
    "    (\"regressor\", SVC())\n",
    "])\n",
    "\n",
    "pipe_svc.fit(X_train, y_train)"
   ]
  },
  {
   "cell_type": "code",
   "execution_count": 43,
   "metadata": {},
   "outputs": [
    {
     "name": "stdout",
     "output_type": "stream",
     "text": [
      "MAE train 0.009213323883770375\n",
      "MAE test 0.01485148514851485\n"
     ]
    }
   ],
   "source": [
    "y_train_predict = pipe_svc.predict(X_train)\n",
    "y_test_predict = pipe_svc.predict(X_test)\n",
    "print(\"MAE train\", mean_absolute_error(y_train, y_train_predict))\n",
    "print(\"MAE test\", mean_absolute_error(y_test, y_test_predict))"
   ]
  },
  {
   "cell_type": "code",
   "execution_count": 46,
   "metadata": {},
   "outputs": [
    {
     "data": {
      "text/plain": [
       "Pipeline(steps=[('poly', PolynomialFeatures(degree=3, include_bias=False)),\n",
       "                ('scaler', StandardScaler()),\n",
       "                ('regressor', LinearRegression())])"
      ]
     },
     "execution_count": 46,
     "metadata": {},
     "output_type": "execute_result"
    }
   ],
   "source": [
    "pipe_linreg_poly = Pipeline(steps =[\n",
    "    (\"poly\", PolynomialFeatures(degree = 3, include_bias = False)),\n",
    "    (\"scaler\", StandardScaler()),\n",
    "    (\"regressor\", LinearRegression())\n",
    "])\n",
    "\n",
    "pipe_linreg_poly.fit(X_train, y_train)"
   ]
  },
  {
   "cell_type": "code",
   "execution_count": 47,
   "metadata": {},
   "outputs": [
    {
     "name": "stdout",
     "output_type": "stream",
     "text": [
      "MAE train 0.08809091282957014\n",
      "MAE test 865612309.360528\n"
     ]
    }
   ],
   "source": [
    "y_train_predict = pipe_linreg_poly.predict(X_train)\n",
    "y_test_predict = pipe_linreg_poly.predict(X_test)\n",
    "print(\"MAE train\", mean_absolute_error(y_train, y_train_predict))\n",
    "print(\"MAE test\", mean_absolute_error(y_test, y_test_predict))"
   ]
  },
  {
   "cell_type": "code",
   "execution_count": 54,
   "metadata": {},
   "outputs": [
    {
     "name": "stderr",
     "output_type": "stream",
     "text": [
      "/Users/christopherproudfoot/opt/anaconda3/lib/python3.8/site-packages/sklearn/neural_network/_multilayer_perceptron.py:582: ConvergenceWarning: Stochastic Optimizer: Maximum iterations (200) reached and the optimization hasn't converged yet.\n",
      "  warnings.warn(\n"
     ]
    },
    {
     "data": {
      "text/plain": [
       "Pipeline(steps=[('scaler', StandardScaler()), ('regressor', MLPClassifier())])"
      ]
     },
     "execution_count": 54,
     "metadata": {},
     "output_type": "execute_result"
    }
   ],
   "source": [
    "pipe_mlp = Pipeline(steps =[\n",
    "    (\"scaler\", StandardScaler()),\n",
    "    (\"regressor\", MLPClassifier())\n",
    "])\n",
    "\n",
    "pipe_mlp.fit(X_train, y_train)"
   ]
  },
  {
   "cell_type": "code",
   "execution_count": 55,
   "metadata": {},
   "outputs": [
    {
     "name": "stdout",
     "output_type": "stream",
     "text": [
      "MAE train 0.0\n",
      "MAE test 0.0\n"
     ]
    }
   ],
   "source": [
    "y_train_predict = pipe_mlp.predict(X_train)\n",
    "y_test_predict = pipe_mlp.predict(X_test)\n",
    "print(\"MAE train\", mean_absolute_error(y_train, y_train_predict))\n",
    "print(\"MAE test\", mean_absolute_error(y_test, y_test_predict))"
   ]
  },
  {
   "cell_type": "code",
   "execution_count": null,
   "metadata": {},
   "outputs": [],
   "source": []
  }
 ],
 "metadata": {
  "kernelspec": {
   "display_name": "Python 3",
   "language": "python",
   "name": "python3"
  },
  "language_info": {
   "codemirror_mode": {
    "name": "ipython",
    "version": 3
   },
   "file_extension": ".py",
   "mimetype": "text/x-python",
   "name": "python",
   "nbconvert_exporter": "python",
   "pygments_lexer": "ipython3",
   "version": "3.8.3"
  }
 },
 "nbformat": 4,
 "nbformat_minor": 4
}
